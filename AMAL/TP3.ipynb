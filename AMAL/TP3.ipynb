{
 "cells": [
  {
   "cell_type": "markdown",
   "metadata": {
    "toc": true
   },
   "source": [
    "<h1>Table of Contents<span class=\"tocSkip\"></span></h1>\n",
    "<div class=\"toc\"><ul class=\"toc-item\"><li><ul class=\"toc-item\"><li><span><a href=\"#Imports\" data-toc-modified-id=\"Imports-0.1\"><span class=\"toc-item-num\">0.1&nbsp;&nbsp;</span>Imports</a></span></li></ul></li><li><span><a href=\"#Classes\" data-toc-modified-id=\"Classes-1\"><span class=\"toc-item-num\">1&nbsp;&nbsp;</span>Classes</a></span><ul class=\"toc-item\"><li><span><a href=\"#MonDataset\" data-toc-modified-id=\"MonDataset-1.1\"><span class=\"toc-item-num\">1.1&nbsp;&nbsp;</span>MonDataset</a></span></li><li><span><a href=\"#Autoencoder\" data-toc-modified-id=\"Autoencoder-1.2\"><span class=\"toc-item-num\">1.2&nbsp;&nbsp;</span>Autoencoder</a></span></li></ul></li><li><span><a href=\"#Tester-l'auto-encodeur-sur-MNIST\" data-toc-modified-id=\"Tester-l'auto-encodeur-sur-MNIST-2\"><span class=\"toc-item-num\">2&nbsp;&nbsp;</span>Tester l'auto-encodeur sur MNIST</a></span></li></ul></div>"
   ]
  },
  {
   "cell_type": "markdown",
   "metadata": {},
   "source": [
    "## Imports"
   ]
  },
  {
   "cell_type": "code",
   "execution_count": 98,
   "metadata": {},
   "outputs": [],
   "source": [
    "import torch\n",
    "from datamaestro import prepare_dataset\n",
    "import numpy as np\n",
    "from skimage.io import imshow\n",
    "from pathlib import Path\n",
    "import os\n",
    "from torchvision.utils import make_grid\n",
    "from torch.utils.data import Dataset, DataLoader\n",
    "import torch.nn as nn\n",
    "import torch.nn.functional as F\n",
    "from torch.utils.tensorboard import SummaryWriter\n",
    "import datetime\n",
    "import torch.optim as optim\n",
    "import matplotlib.pyplot as plt\n"
   ]
  },
  {
   "cell_type": "markdown",
   "metadata": {},
   "source": [
    "# Classes"
   ]
  },
  {
   "cell_type": "markdown",
   "metadata": {},
   "source": [
    "## MonDataset"
   ]
  },
  {
   "cell_type": "markdown",
   "metadata": {},
   "source": [
    "On implémente une classe ``MonDataset`` avec ses deux méthodes : ``__getitem__`` et ``__len__``."
   ]
  },
  {
   "cell_type": "code",
   "execution_count": 2,
   "metadata": {},
   "outputs": [],
   "source": [
    "class MonDataset(Dataset):\n",
    "    \n",
    "    def __init__(self, ds):\n",
    "        self.images = ds.images.data()\n",
    "        self.labels = ds.labels.data()\n",
    "        \n",
    "    def __getitem__(self, index):\n",
    "        dimensions = self.images[index].shape\n",
    "        x = np.reshape(self.images[index], dimensions[0]*dimensions[1])\n",
    "        x = x / 255.0\n",
    "        y = self.labels[index]\n",
    "        return x, y\n",
    "    \n",
    "    def __len__(self):\n",
    "        return len(self.labels)\n"
   ]
  },
  {
   "cell_type": "code",
   "execution_count": 3,
   "metadata": {},
   "outputs": [],
   "source": [
    "ds=prepare_dataset(\"com.lecun.mnist\");"
   ]
  },
  {
   "cell_type": "code",
   "execution_count": 4,
   "metadata": {},
   "outputs": [],
   "source": [
    "trainSet = MonDataset(ds.train)\n",
    "testSet = MonDataset(ds.test)"
   ]
  },
  {
   "cell_type": "code",
   "execution_count": 88,
   "metadata": {},
   "outputs": [],
   "source": [
    "trainData = DataLoader(trainSet,shuffle=True,batch_size=32)\n",
    "testData = DataLoader(testSet,shuffle=True,batch_size=len(testSet))"
   ]
  },
  {
   "cell_type": "code",
   "execution_count": 92,
   "metadata": {},
   "outputs": [
    {
     "name": "stdout",
     "output_type": "stream",
     "text": [
      "[tensor([[0., 0., 0.,  ..., 0., 0., 0.],\n",
      "        [0., 0., 0.,  ..., 0., 0., 0.],\n",
      "        [0., 0., 0.,  ..., 0., 0., 0.],\n",
      "        ...,\n",
      "        [0., 0., 0.,  ..., 0., 0., 0.],\n",
      "        [0., 0., 0.,  ..., 0., 0., 0.],\n",
      "        [0., 0., 0.,  ..., 0., 0., 0.]], dtype=torch.float64), tensor([4, 0, 1,  ..., 3, 8, 2], dtype=torch.uint8)]\n"
     ]
    }
   ],
   "source": [
    "testData = DataLoader(testSet,shuffle=True,batch_size=len(testSet))\n",
    "for x in testData:\n",
    "    print(x)"
   ]
  },
  {
   "cell_type": "markdown",
   "metadata": {},
   "source": [
    "## Autoencoder"
   ]
  },
  {
   "cell_type": "code",
   "execution_count": 95,
   "metadata": {},
   "outputs": [],
   "source": [
    "class AutoEncoder(nn.Module):\n",
    "    def __init__(self, in_size, weight):\n",
    "        super().__init__()\n",
    "        self.encoder = nn.Linear(in_size, int(in_size/6), bias=False)\n",
    "        self.encoder.weight.data = weight.clone().double()\n",
    "\n",
    "    def forward(self, x):\n",
    "        encoded = F.relu(self.encoder(x))\n",
    "        y_decoded = F.sigmoid(F.linear(encoded, self.encoder.weight.t()))\n",
    "        return encoded, y_decoded"
   ]
  },
  {
   "cell_type": "markdown",
   "metadata": {},
   "source": [
    "# Tester l'auto-encodeur sur MNIST"
   ]
  },
  {
   "cell_type": "code",
   "execution_count": 108,
   "metadata": {},
   "outputs": [],
   "source": [
    "device = torch.device(\"cuda\" if torch.cuda.is_available() else \"cpu\")\n",
    "\n",
    "model = AutoEncoder(784, torch.randn(28, 784)).to(device)\n",
    "\n",
    "optimizer = optim.Adam(model.parameters(), lr=1e-1)\n",
    "\n",
    "criterion = nn.MSELoss()\n",
    "\n",
    "epochs = 50"
   ]
  },
  {
   "cell_type": "code",
   "execution_count": 109,
   "metadata": {
    "scrolled": true
   },
   "outputs": [
    {
     "name": "stdout",
     "output_type": "stream",
     "text": [
      "epoch : 0/50, loss = 0.08222214765632811, test loss = 0.07679472112246707\n",
      "epoch : 10/50, loss = 0.07214171176122741, test loss = 0.07182968971344363\n",
      "epoch : 20/50, loss = 0.07178649838609089, test loss = 0.07063163725806837\n",
      "epoch : 30/50, loss = 0.07078829912835699, test loss = 0.06960083002714099\n",
      "epoch : 40/50, loss = 0.07005272045934784, test loss = 0.06880072816222359\n"
     ]
    }
   ],
   "source": [
    "erreurTrain = []\n",
    "erreurTest = []\n",
    "for epoch in range(epochs):\n",
    "    loss = 0\n",
    "    for batchInput,_ in trainData:\n",
    "        \n",
    "        optimizer.zero_grad()\n",
    "        _, output = model(batchInput.double())\n",
    "        trainLoss = criterion(output, batchInput)\n",
    "        trainLoss.backward()\n",
    "        \n",
    "        # perform parameter update based on current gradients\n",
    "        optimizer.step()\n",
    "        \n",
    "        # add the mini-batch training loss to epoch loss\n",
    "        loss += trainLoss.item()\n",
    "        \n",
    "    with torch.no_grad(): \n",
    "        for testInput,_ in testData:\n",
    "            _, outputTest = model(testInput.double())\n",
    "            testLoss = criterion(outputTest, testInput)\n",
    "    \n",
    "    # compute the epoch training loss\n",
    "    loss = loss / len(trainData)\n",
    "    \n",
    "    erreurTrain.append(loss)\n",
    "    erreurTest.append(testLoss)\n",
    "\n",
    "    if epoch%10 == 0:\n",
    "        print(f\"epoch : {epoch}/{epochs}, loss = {loss}, test loss = {testLoss}\")"
   ]
  },
  {
   "cell_type": "code",
   "execution_count": 110,
   "metadata": {},
   "outputs": [
    {
     "data": {
      "text/plain": [
       "[<matplotlib.lines.Line2D at 0x26e8adaf5c8>]"
      ]
     },
     "execution_count": 110,
     "metadata": {},
     "output_type": "execute_result"
    },
    {
     "data": {
      "image/png": "[encoded data removed]",
      "text/plain": [
       "<Figure size 432x288 with 1 Axes>"
      ]
     },
     "metadata": {
      "needs_background": "light"
     },
     "output_type": "display_data"
    }
   ],
   "source": [
    "plt.plot(erreurTrain, 'black')\n",
    "plt.plot(erreurTest, 'blue')"
   ]
  }
 ],
 "metadata": {
  "kernelspec": {
   "display_name": "Python 3",
   "language": "python",
   "name": "python3"
  },
  "language_info": {
   "codemirror_mode": {
    "name": "ipython",
    "version": 3
   },
   "file_extension": ".py",
   "mimetype": "text/x-python",
   "name": "python",
   "nbconvert_exporter": "python",
   "pygments_lexer": "ipython3",
   "version": "3.7.6"
  },
  "toc": {
   "base_numbering": 1,
   "nav_menu": {},
   "number_sections": true,
   "sideBar": true,
   "skip_h1_title": false,
   "title_cell": "Table of Contents",
   "title_sidebar": "Contents",
   "toc_cell": true,
   "toc_position": {},
   "toc_section_display": true,
   "toc_window_display": false
  }
 },
 "nbformat": 4,
 "nbformat_minor": 4
}
