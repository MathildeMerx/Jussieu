{
 "cells": [
  {
   "cell_type": "markdown",
   "metadata": {
    "toc": true
   },
   "source": [
    "<h1>Table of Contents<span class=\"tocSkip\"></span></h1>\n",
    "<div class=\"toc\"><ul class=\"toc-item\"><li><ul class=\"toc-item\"><li><span><a href=\"#Imports\" data-toc-modified-id=\"Imports-0.1\"><span class=\"toc-item-num\">0.1&nbsp;&nbsp;</span>Imports</a></span><ul class=\"toc-item\"><li><span><a href=\"#Librairies\" data-toc-modified-id=\"Librairies-0.1.1\"><span class=\"toc-item-num\">0.1.1&nbsp;&nbsp;</span>Librairies</a></span></li><li><span><a href=\"#Données\" data-toc-modified-id=\"Données-0.1.2\"><span class=\"toc-item-num\">0.1.2&nbsp;&nbsp;</span>Données</a></span></li></ul></li></ul></li><li><span><a href=\"#Entraînement-du-modèle\" data-toc-modified-id=\"Entraînement-du-modèle-1\"><span class=\"toc-item-num\">1&nbsp;&nbsp;</span>Entraînement du modèle</a></span><ul class=\"toc-item\"><li><span><a href=\"#Fonctions\" data-toc-modified-id=\"Fonctions-1.1\"><span class=\"toc-item-num\">1.1&nbsp;&nbsp;</span>Fonctions</a></span></li><li><span><a href=\"#Boucle-d'entraînement\" data-toc-modified-id=\"Boucle-d'entraînement-1.2\"><span class=\"toc-item-num\">1.2&nbsp;&nbsp;</span>Boucle d'entraînement</a></span><ul class=\"toc-item\"><li><span><a href=\"#Descente-de-gradient-batch\" data-toc-modified-id=\"Descente-de-gradient-batch-1.2.1\"><span class=\"toc-item-num\">1.2.1&nbsp;&nbsp;</span>Descente de gradient batch</a></span></li><li><span><a href=\"#Descente-de-gradient-stochastique\" data-toc-modified-id=\"Descente-de-gradient-stochastique-1.2.2\"><span class=\"toc-item-num\">1.2.2&nbsp;&nbsp;</span>Descente de gradient stochastique</a></span></li><li><span><a href=\"#Descente-de-gradient-mini-batch\" data-toc-modified-id=\"Descente-de-gradient-mini-batch-1.2.3\"><span class=\"toc-item-num\">1.2.3&nbsp;&nbsp;</span>Descente de gradient mini-batch</a></span></li></ul></li></ul></li><li><span><a href=\"#Avec-le-module-Pytorch\" data-toc-modified-id=\"Avec-le-module-Pytorch-2\"><span class=\"toc-item-num\">2&nbsp;&nbsp;</span>Avec le module Pytorch</a></span><ul class=\"toc-item\"><li><span><a href=\"#Avec-optim\" data-toc-modified-id=\"Avec-optim-2.1\"><span class=\"toc-item-num\">2.1&nbsp;&nbsp;</span>Avec optim</a></span></li><li><span><a href=\"#Avec-sequential\" data-toc-modified-id=\"Avec-sequential-2.2\"><span class=\"toc-item-num\">2.2&nbsp;&nbsp;</span>Avec sequential</a></span></li></ul></li></ul></div>"
   ]
  },
  {
   "cell_type": "markdown",
   "metadata": {},
   "source": [
    "## Imports"
   ]
  },
  {
   "cell_type": "markdown",
   "metadata": {},
   "source": [
    "### Librairies"
   ]
  },
  {
   "cell_type": "code",
   "execution_count": 352,
   "metadata": {},
   "outputs": [],
   "source": [
    "import numpy as np\n",
    "import torch\n",
    "from torch.utils.tensorboard import SummaryWriter\n",
    "## Installer datamaestro et datamaestro-ml pip install datamaestro datamaestro-ml\n",
    "import datamaestro\n",
    "from tqdm import tqdm\n",
    "from random import shuffle\n",
    "import matplotlib.pyplot as plt"
   ]
  },
  {
   "cell_type": "markdown",
   "metadata": {},
   "source": [
    "### Données"
   ]
  },
  {
   "cell_type": "markdown",
   "metadata": {},
   "source": [
    "On importe les données, puis on sépare en fonction de l'entrée et la sortie. Enfin, on sépare le dataset en train et test."
   ]
  },
  {
   "cell_type": "code",
   "execution_count": 528,
   "metadata": {},
   "outputs": [],
   "source": [
    "data=datamaestro.prepare_dataset(\"edu.uci.boston\")"
   ]
  },
  {
   "cell_type": "code",
   "execution_count": 529,
   "metadata": {},
   "outputs": [],
   "source": [
    "colnames, datax, datay = data.data()\n",
    "datax = torch.tensor(datax,dtype=torch.float64, requires_grad=True)\n",
    "datay = torch.tensor(datay,dtype=torch.float64, requires_grad=True).reshape(-1,1)"
   ]
  },
  {
   "cell_type": "code",
   "execution_count": 530,
   "metadata": {},
   "outputs": [],
   "source": [
    "trainx = datax[:int(len(datax)*0.8)]\n",
    "trainy = datay[:int(len(datax)*0.8)]\n",
    "\n",
    "testx = datax[int(len(datax)*0.8):]\n",
    "testy = datay[int(len(datax)*0.8):]"
   ]
  },
  {
   "cell_type": "code",
   "execution_count": 531,
   "metadata": {},
   "outputs": [],
   "source": [
    "with torch.no_grad():\n",
    "    moy_x = torch.mean(trainx, 0)\n",
    "    ec_type_x = torch.std(trainx, 0)\n",
    "    moy_x = moy_x.unsqueeze(0).expand_as(trainx)\n",
    "    ec_type_x = ec_type_x.unsqueeze(0).expand_as(trainx)\n",
    "    trainx = (trainx-moy_x)/ec_type_x"
   ]
  },
  {
   "cell_type": "code",
   "execution_count": 532,
   "metadata": {},
   "outputs": [],
   "source": [
    "with torch.no_grad():\n",
    "    moy_y = torch.mean(trainy, 0)\n",
    "    ec_type_y = torch.std(trainy, 0)\n",
    "    moy_y = moy_y.unsqueeze(0).expand_as(trainy)\n",
    "    ec_type_y = ec_type_y.unsqueeze(0).expand_as(trainy)\n",
    "    trainy = (trainy-moy_y)/ec_type_y"
   ]
  },
  {
   "cell_type": "code",
   "execution_count": 533,
   "metadata": {},
   "outputs": [
    {
     "name": "stdout",
     "output_type": "stream",
     "text": [
      "torch.Size([404, 13]) torch.Size([404, 1]) torch.Size([102, 13]) torch.Size([102, 1])\n"
     ]
    }
   ],
   "source": [
    "print(trainx.shape, trainy.shape, testx.shape, testy.shape)"
   ]
  },
  {
   "cell_type": "code",
   "execution_count": 534,
   "metadata": {},
   "outputs": [],
   "source": [
    "with torch.no_grad():\n",
    "    testx = (trainx - moy_x)/ec_type_x\n",
    "    testy = (trainy - moy_y)/ec_type_y"
   ]
  },
  {
   "cell_type": "markdown",
   "metadata": {},
   "source": [
    "# Entraînement du modèle"
   ]
  },
  {
   "cell_type": "markdown",
   "metadata": {},
   "source": [
    "## Fonctions"
   ]
  },
  {
   "cell_type": "markdown",
   "metadata": {},
   "source": [
    "On n'a besoin que de deux fonctions pour l'entraînement : l'inférence en fonction de ``x``, et le MSE en fonction du ``y_hat`` calculé. Contrairement au TME précédent, on ne calcule pas \"à la main\" le gradient, puisque Pytorch le permet directement."
   ]
  },
  {
   "cell_type": "code",
   "execution_count": 535,
   "metadata": {},
   "outputs": [],
   "source": [
    "def linear_forward(x, w, b):\n",
    "    y = torch.matmul(x, torch.transpose(w, 0, 1))\n",
    "    y += b.expand_as(y)                   \n",
    "    return y"
   ]
  },
  {
   "cell_type": "code",
   "execution_count": 536,
   "metadata": {},
   "outputs": [],
   "source": [
    "def MSE_forward(y_hat, y_true):\n",
    "    return torch.sum((y_hat - y_true)**2)/len(y_hat)"
   ]
  },
  {
   "cell_type": "markdown",
   "metadata": {},
   "source": [
    "## Boucle d'entraînement"
   ]
  },
  {
   "cell_type": "code",
   "execution_count": 598,
   "metadata": {},
   "outputs": [],
   "source": [
    "num_train = len(trainx)\n",
    "maxiter = 200 # Les paramètres du modèle à optimiser \n",
    "epsilon = 1e-1"
   ]
  },
  {
   "cell_type": "code",
   "execution_count": 599,
   "metadata": {},
   "outputs": [],
   "source": [
    "weight = torch.randn(1,13, requires_grad=True, dtype=torch.float64).double()\n",
    "bias = torch.randn(1, requires_grad=True, dtype=torch.float64) "
   ]
  },
  {
   "cell_type": "code",
   "execution_count": 600,
   "metadata": {},
   "outputs": [],
   "source": [
    "writer = SummaryWriter('C:\\Mathilde\\Classe\\Jussieu\\AMAL\\TP2')"
   ]
  },
  {
   "cell_type": "markdown",
   "metadata": {},
   "source": [
    "### Descente de gradient batch"
   ]
  },
  {
   "cell_type": "code",
   "execution_count": 601,
   "metadata": {
    "scrolled": true
   },
   "outputs": [
    {
     "name": "stderr",
     "output_type": "stream",
     "text": [
      "100%|██████████████████████████████████████████████████████████████████████████████| 200/200 [00:00<00:00, 1078.15it/s]\n"
     ]
    },
    {
     "data": {
      "text/plain": [
       "[<matplotlib.lines.Line2D at 0x1b951aa3e88>]"
      ]
     },
     "execution_count": 601,
     "metadata": {},
     "output_type": "execute_result"
    },
    {
     "data": {
      "image/png": "[encoded data removed]",
      "text/plain": [
       "<Figure size 432x288 with 1 Axes>"
      ]
     },
     "metadata": {
      "needs_background": "light"
     },
     "output_type": "display_data"
    }
   ],
   "source": [
    "testError = [] \n",
    "trainError = []\n",
    "for n_iter in tqdm(range(maxiter)):                               #Boucle des epochs\n",
    "    \n",
    "    y_hat = linear_forward(trainx, weight, bias)                  #On calcule le forward pass du perceptron \n",
    "                                                                  #sur tout le train set\n",
    "    loss = MSE_forward(y_hat, trainy)                             #On calcule le MSE obtenu\n",
    "    y_hat.retain_grad()                                           #On sauvegarde les gradients désirés\n",
    "    loss.backward() \n",
    "\n",
    "    with torch.no_grad():                                         #On actualise les poids, sans en calculer le gradient\n",
    "        weight -= epsilon*weight.grad\n",
    "        bias -= epsilon*bias.grad\n",
    "\n",
    "    weight.grad.data.zero_()                                      #On remet les gradients à 0\n",
    "    bias.grad.data.zero_() \n",
    "    \n",
    "    #Tous les batchs ont maintenant été utilisés une fois\n",
    "    with torch.no_grad():                                         #On teste les poids nouvellement calculés\n",
    "        y_hat_test = linear_forward(testx, weight, bias) \n",
    "        loss_test = MSE_forward(y_hat_test, testy)\n",
    "        y_hat = linear_forward(trainx, weight, bias) \n",
    "        loss = MSE_forward(y_hat, trainy)\n",
    "    \n",
    "    writer.add_scalar('Loss/train', loss_test, n_iter)\n",
    "    trainError.append(loss)    \n",
    "    testError.append(loss_test) \n",
    "plt.plot(trainError, 'black')\n",
    "plt.plot(testError, 'blue')"
   ]
  },
  {
   "cell_type": "code",
   "execution_count": 560,
   "metadata": {},
   "outputs": [],
   "source": [
    "writer.close()"
   ]
  },
  {
   "cell_type": "markdown",
   "metadata": {},
   "source": [
    "### Descente de gradient stochastique"
   ]
  },
  {
   "cell_type": "code",
   "execution_count": 586,
   "metadata": {},
   "outputs": [],
   "source": [
    "num_train = len(trainx)\n",
    "maxiter = 200 # Les paramètres du modèle à optimiser \n",
    "epsilon = 1e-4"
   ]
  },
  {
   "cell_type": "code",
   "execution_count": 587,
   "metadata": {},
   "outputs": [],
   "source": [
    "weight_stoch = torch.randn(1,13, requires_grad=True, dtype=torch.float64).double()\n",
    "bias_stoch = torch.randn(1, requires_grad=True, dtype=torch.float64) "
   ]
  },
  {
   "cell_type": "code",
   "execution_count": 588,
   "metadata": {},
   "outputs": [],
   "source": [
    "writer = SummaryWriter('C:\\Mathilde\\Classe\\Jussieu\\AMAL\\TP2')"
   ]
  },
  {
   "cell_type": "code",
   "execution_count": 589,
   "metadata": {
    "scrolled": true
   },
   "outputs": [
    {
     "name": "stderr",
     "output_type": "stream",
     "text": [
      "100%|████████████████████████████████████████████████████████████████████████████████| 200/200 [00:21<00:00,  9.44it/s]\n"
     ]
    },
    {
     "data": {
      "text/plain": [
       "[<matplotlib.lines.Line2D at 0x1b950ac8908>]"
      ]
     },
     "execution_count": 589,
     "metadata": {},
     "output_type": "execute_result"
    },
    {
     "data": {
      "image/png": "[encoded data removed]",
      "text/plain": [
       "<Figure size 432x288 with 1 Axes>"
      ]
     },
     "metadata": {
      "needs_background": "light"
     },
     "output_type": "display_data"
    }
   ],
   "source": [
    "testError_stoch = [] \n",
    "trainError_stoch = []\n",
    "for n_iter in tqdm(range(maxiter)):                                     #Boucle des epochs\n",
    "    \n",
    "    for i in range(num_train):                                          #Boucle des unités\n",
    "            \n",
    "        y_hat = linear_forward(trainx[i], weight_stoch, bias_stoch)     #On calcule le forward pass du perceptron\n",
    "        loss = MSE_forward(y_hat, batchy)                               #On calcule le MSE obtenu\n",
    "        y_hat.retain_grad()                                             #On sauvegarde les gradients désirés\n",
    "        loss.backward() \n",
    "        \n",
    "        with torch.no_grad():                                           #On actualise les poids, \n",
    "                                                                        #sans en calculer le gradient\n",
    "            weight_stoch -= epsilon*weight_stoch.grad\n",
    "            bias_stoch -= epsilon*bias_stoch.grad\n",
    "            \n",
    "        weight_stoch.grad.data.zero_()                                  #On remet les gradients à 0\n",
    "        bias_stoch.grad.data.zero_() \n",
    "    \n",
    "    #Tous les batchs ont maintenant été utilisés une fois\n",
    "    with torch.no_grad():                                              #On teste les poids nouvellement calculés\n",
    "        y_hat_test = linear_forward(testx, weight_stoch, bias_stoch) \n",
    "        loss_test = MSE_forward(y_hat_test, testy)\n",
    "        y_hat = linear_forward(trainx, weight_stoch, bias_stoch) \n",
    "        loss = MSE_forward(y_hat, trainy)\n",
    "    \n",
    "    writer.add_scalar('Loss/train', loss_test, n_iter)\n",
    "    trainError_stoch.append(loss)    \n",
    "    testError_stoch.append(loss_test) \n",
    "plt.plot(trainError_stoch, 'black')\n",
    "plt.plot(testError_stoch, 'blue')"
   ]
  },
  {
   "cell_type": "code",
   "execution_count": 575,
   "metadata": {},
   "outputs": [],
   "source": [
    "writer.close()"
   ]
  },
  {
   "cell_type": "markdown",
   "metadata": {},
   "source": [
    "### Descente de gradient mini-batch"
   ]
  },
  {
   "cell_type": "code",
   "execution_count": 581,
   "metadata": {},
   "outputs": [],
   "source": [
    "num_train = len(trainx)\n",
    "maxiter = 200 # Les paramètres du modèle à optimiser \n",
    "epsilon = 1e-2"
   ]
  },
  {
   "cell_type": "code",
   "execution_count": 582,
   "metadata": {},
   "outputs": [],
   "source": [
    "weight_batch = torch.randn(1,13, requires_grad=True, dtype=torch.float64).double()\n",
    "bias_batch = torch.randn(1, requires_grad=True, dtype=torch.float64) "
   ]
  },
  {
   "cell_type": "code",
   "execution_count": 583,
   "metadata": {},
   "outputs": [],
   "source": [
    "writer = SummaryWriter('C:\\Mathilde\\Classe\\Jussieu\\AMAL\\TP2')"
   ]
  },
  {
   "cell_type": "code",
   "execution_count": 584,
   "metadata": {
    "scrolled": true
   },
   "outputs": [
    {
     "name": "stderr",
     "output_type": "stream",
     "text": [
      "100%|████████████████████████████████████████████████████████████████████████████████| 200/200 [00:02<00:00, 72.41it/s]\n"
     ]
    },
    {
     "data": {
      "text/plain": [
       "[<matplotlib.lines.Line2D at 0x1b9509faf48>]"
      ]
     },
     "execution_count": 584,
     "metadata": {},
     "output_type": "execute_result"
    },
    {
     "data": {
      "image/png": "[encoded data removed]",
      "text/plain": [
       "<Figure size 432x288 with 1 Axes>"
      ]
     },
     "metadata": {
      "needs_background": "light"
     },
     "output_type": "display_data"
    }
   ],
   "source": [
    "testError_batch = [] \n",
    "trainError_batch = []\n",
    "for n_iter in tqdm(range(maxiter)):                                #Boucle des epochs\n",
    "    epsilon *= 0.99\n",
    "    liste = [i for i in range(num_train)]                          #On mélange les données d'entraînement\n",
    "    shuffle(liste)\n",
    "    \n",
    "    for i in range(int(num_train/32) + 1):                         #Boucle des batch\n",
    "        index = liste[i * 32: (i+1) * 32]                          #On crée le batch en fonction du mélange déterminé\n",
    "        with torch.no_grad():\n",
    "            batchx = trainx[index[0]].unsqueeze(0)\n",
    "            batchy = trainy[index[0]].unsqueeze(0)    \n",
    "        for j in index[1:]:\n",
    "            batchx = torch.cat((batchx, trainx[j].unsqueeze(0)))\n",
    "            batchy = torch.cat((batchy, trainy[j].unsqueeze(0)))\n",
    "            \n",
    "        y_hat = linear_forward(batchx, weight_batch, bias_batch)              #On calcule le forward pass du perceptron\n",
    "        loss = MSE_forward(y_hat, batchy)                         #On calcule le MSE obtenu\n",
    "        y_hat.retain_grad()                                       #On sauvegarde les gradients désirés\n",
    "        loss.backward() \n",
    "        \n",
    "        with torch.no_grad():                                     #On actualise les poids, sans en calculer le gradient\n",
    "            weight_batch -= epsilon*weight_batch.grad\n",
    "            bias_batch -= epsilon*bias_batch.grad\n",
    "            \n",
    "        weight_batch.grad.data.zero_()                                  #On remet les gradients à 0\n",
    "        bias_batch.grad.data.zero_() \n",
    "    \n",
    "    #Tous les batchs ont maintenant été utilisés une fois\n",
    "    with torch.no_grad():                                         #On teste les poids nouvellement calculés\n",
    "        y_hat_test = linear_forward(testx, weight_batch, bias_batch) \n",
    "        loss_test = MSE_forward(y_hat_test, testy)\n",
    "        y_hat = linear_forward(trainx, weight_batch, bias_batch) \n",
    "        loss = MSE_forward(y_hat, trainy)\n",
    "    \n",
    "    writer.add_scalar('Loss/train', loss_test, n_iter)\n",
    "    trainError_batch.append(loss)    \n",
    "    testError_batch.append(loss_test) \n",
    "plt.plot(trainError_batch, 'black')\n",
    "plt.plot(testError_batch, 'blue')"
   ]
  },
  {
   "cell_type": "code",
   "execution_count": 585,
   "metadata": {},
   "outputs": [],
   "source": [
    "writer.close()"
   ]
  },
  {
   "cell_type": "markdown",
   "metadata": {},
   "source": [
    "# Avec le module Pytorch"
   ]
  },
  {
   "cell_type": "markdown",
   "metadata": {},
   "source": [
    "## Avec optim"
   ]
  },
  {
   "cell_type": "code",
   "execution_count": 670,
   "metadata": {},
   "outputs": [],
   "source": [
    "errorTrain=[]\n",
    "errorTest=[]\n",
    "\n",
    "linear_forward1 = torch.nn.Linear(13,4)\n",
    "tanh_forward = torch.nn.Tanh()\n",
    "linear_forward2 = torch.nn.Linear(4,1)\n",
    "mse_forward = torch.nn.MSELoss()\n",
    "\n",
    "param = list(linear_forward1.parameters()) + list(linear_forward2.parameters())\n",
    "\n",
    "optim = torch.optim.SGD(params=param,lr=0.03) ## on optimise selon w et b, lr : pas de gradient\n",
    "optim.zero_grad()\n",
    "\n",
    "for i in range(500):\n",
    "    output = linear_forward2(tanh_forward(linear_forward1(trainx.float())))\n",
    "    loss = mse_forward(output,trainy.float()) #Calcul du cout\n",
    "    loss.backward() # Retropropagation\n",
    "    if i % 10 == 0:\n",
    "        errorTrain.append(loss)\n",
    "        optim.step() # Mise-à-jour des paramètres w et b\n",
    "        optim.zero_grad() # Reinitialisation du gradient\n",
    "        with torch.no_grad():                                         #On teste les poids nouvellement calculés\n",
    "            y_hat_test = linear_forward2(tanh_forward(linear_forward1(testx.float()))) \n",
    "            loss_test = mse_forward(y_hat_test, testy.float())\n",
    "            errorTest.append(loss_test)"
   ]
  },
  {
   "cell_type": "code",
   "execution_count": 671,
   "metadata": {},
   "outputs": [
    {
     "data": {
      "text/plain": [
       "[<matplotlib.lines.Line2D at 0x1b9543047c8>]"
      ]
     },
     "execution_count": 671,
     "metadata": {},
     "output_type": "execute_result"
    },
    {
     "data": {
      "image/png": "[encoded data removed]",
      "text/plain": [
       "<Figure size 432x288 with 1 Axes>"
      ]
     },
     "metadata": {
      "needs_background": "light"
     },
     "output_type": "display_data"
    }
   ],
   "source": [
    "plt.plot(errorTrain)\n",
    "plt.plot(errorTest, 'black')"
   ]
  },
  {
   "cell_type": "markdown",
   "metadata": {},
   "source": [
    "## Avec sequential"
   ]
  },
  {
   "cell_type": "code",
   "execution_count": 693,
   "metadata": {},
   "outputs": [],
   "source": [
    "errorTrain=[]\n",
    "errorTest=[]\n",
    "\n",
    "model = torch.nn.Sequential(\n",
    "    torch.nn.Linear(13, 404),\n",
    "    torch.nn.Tanh(),\n",
    "    torch.nn.Linear(404, 1),\n",
    ")\n",
    "\n",
    "loss_fn = torch.nn.MSELoss(reduction='sum')\n",
    "\n",
    "learning_rate = 0.00006\n",
    "optimizer = torch.optim.SGD(model.parameters(), lr=learning_rate)\n",
    "for t in range(500):\n",
    "    y_pred = model(trainx.float())\n",
    "\n",
    "    loss = loss_fn(y_pred, trainy.float())\n",
    "    if t % 10 == 0:\n",
    "        optimizer.zero_grad()\n",
    "        loss.backward()\n",
    "        optimizer.step()\n",
    "        errorTrain.append(loss)\n",
    "        with torch.no_grad():                                         #On teste les poids nouvellement calculés\n",
    "            y_hat_test = model(testx.float())\n",
    "            loss_test = loss_fn(y_hat_test, testy.float())\n",
    "            errorTest.append(loss_test)"
   ]
  },
  {
   "cell_type": "code",
   "execution_count": 694,
   "metadata": {},
   "outputs": [
    {
     "data": {
      "text/plain": [
       "[<matplotlib.lines.Line2D at 0x1b9546f5208>]"
      ]
     },
     "execution_count": 694,
     "metadata": {},
     "output_type": "execute_result"
    },
    {
     "data": {
      "image/png": "[encoded data removed]",
      "text/plain": [
       "<Figure size 432x288 with 1 Axes>"
      ]
     },
     "metadata": {
      "needs_background": "light"
     },
     "output_type": "display_data"
    }
   ],
   "source": [
    "plt.plot(errorTrain)\n",
    "plt.plot(errorTest, 'black')"
   ]
  }
 ],
 "metadata": {
  "kernelspec": {
   "display_name": "Python 3",
   "language": "python",
   "name": "python3"
  },
  "language_info": {
   "codemirror_mode": {
    "name": "ipython",
    "version": 3
   },
   "file_extension": ".py",
   "mimetype": "text/x-python",
   "name": "python",
   "nbconvert_exporter": "python",
   "pygments_lexer": "ipython3",
   "version": "3.7.6"
  },
  "toc": {
   "base_numbering": 1,
   "nav_menu": {},
   "number_sections": true,
   "sideBar": true,
   "skip_h1_title": false,
   "title_cell": "Table of Contents",
   "title_sidebar": "Contents",
   "toc_cell": true,
   "toc_position": {},
   "toc_section_display": true,
   "toc_window_display": false
  }
 },
 "nbformat": 4,
 "nbformat_minor": 4
}
